{
 "cells": [
  {
   "cell_type": "code",
   "execution_count": 1,
   "metadata": {},
   "outputs": [],
   "source": [
    "import numpy as np\n",
    "import matplotlib.pyplot as plt\n",
    "\n",
    "def image_contour(img):\n",
    "  neighbour_map = [7, 7, 1, 1, 3, 3, 5, 5]\n",
    "  \n",
    "  img_pad = np.pad(img, 1, mode='constant')\n",
    "  num_rows, num_cols = img.shape\n",
    "  \n",
    "  k = 0\n",
    "  row = 0\n",
    "  col = 0\n",
    "  while img_pad[row, col] == 0:\n",
    "    k += 1\n",
    "    row = k // num_cols\n",
    "    col = k - row * num_cols\n",
    "    \n",
    "  curr_point = (row, col)\n",
    "  contour = [curr_point]\n",
    "  starting_index = 2\n",
    "  while True:\n",
    "    next_point, last_index = get_next_point(img_pad, \n",
    "                                           curr_point, \n",
    "                                           starting_index)\n",
    "    \n",
    "    starting_index = neighbour_map[last_index]\n",
    "    if len(contour) > 1: \n",
    "      if next_point == contour[1] and contour[-1] == contour[0]:\n",
    "        break\n",
    "    contour.append(next_point)\n",
    "    curr_point = next_point\n",
    "    \n",
    "  for idx, point in enumerate(contour):\n",
    "    contour[idx] = (point[0]-1, point[1]-1)\n",
    "\n",
    "  return contour"
   ]
  },
  {
   "cell_type": "code",
   "execution_count": 3,
   "metadata": {},
   "outputs": [],
   "source": [
    "def get_next_point(img, curr_point, starting_index):\n",
    "  nei_list = [(-1, 0), (-1, 1), (0, 1), (1, 1), #nei = neighbour\n",
    "              (1, 0), (1, -1), (0, -1), (-1,-1)]\n",
    "  \n",
    "  curr_index = starting_index\n",
    "  nei_value = 0\n",
    "  while nei_value == 0:\n",
    "    nei_shift = nei_list[curr_index]\n",
    "    nei_row = curr_point[0] + nei_shift[0]\n",
    "    nei_col = curr_point[1] + nei_shift[1]\n",
    "    nei_value = img[nei_row, nei_col]\n",
    "    \n",
    "    if nei_value == 1:\n",
    "      return (nei_row, nei_col), curr_index\n",
    "    \n",
    "    else: \n",
    "      curr_index = (curr_index + 1) % 8"
   ]
  },
  {
   "cell_type": "code",
   "execution_count": 7,
   "metadata": {},
   "outputs": [
    {
     "data": {
      "text/plain": [
       "<matplotlib.image.AxesImage at 0x7fb675b0beb0>"
      ]
     },
     "execution_count": 7,
     "metadata": {},
     "output_type": "execute_result"
    },
    {
     "data": {
      "image/png": "[encoded data removed]",
      "text/plain": [
       "<Figure size 432x288 with 1 Axes>"
      ]
     },
     "metadata": {
      "needs_background": "light"
     },
     "output_type": "display_data"
    }
   ],
   "source": [
    "img = plt.imread('Imgs/blob.tiff')\n",
    "img = img > 0\n",
    "plt.imshow(img, 'gray')"
   ]
  },
  {
   "cell_type": "code",
   "execution_count": 9,
   "metadata": {},
   "outputs": [],
   "source": [
    "cont = image_contour(img)\n",
    "cont = np.array(cont)"
   ]
  },
  {
   "cell_type": "code",
   "execution_count": 13,
   "metadata": {},
   "outputs": [
    {
     "data": {
      "text/plain": [
       "' plt.plot(cont[:, 0])\\nplt.plot(cont[:, 1]) '"
      ]
     },
     "execution_count": 13,
     "metadata": {},
     "output_type": "execute_result"
    }
   ],
   "source": [
    "''' plt.plot(cont[:, 0])\n",
    "plt.plot(cont[:, 1]) '''"
   ]
  },
  {
   "cell_type": "code",
   "execution_count": 17,
   "metadata": {},
   "outputs": [
    {
     "data": {
      "text/plain": [
       "[<matplotlib.lines.Line2D at 0x7fb6759eeb30>]"
      ]
     },
     "execution_count": 17,
     "metadata": {},
     "output_type": "execute_result"
    },
    {
     "data": {
      "image/png": "[encoded data removed]",
      "text/plain": [
       "<Figure size 432x288 with 1 Axes>"
      ]
     },
     "metadata": {
      "needs_background": "light"
     },
     "output_type": "display_data"
    }
   ],
   "source": [
    "plt.subplot(111, aspect='equal')\n",
    "plt.plot(cont[:, 1], img.shape[0] - cont[:, 0], 'o', ms=3)"
   ]
  }
 ],
 "metadata": {
  "kernelspec": {
   "display_name": "Python 3.10.4 64-bit",
   "language": "python",
   "name": "python3"
  },
  "language_info": {
   "codemirror_mode": {
    "name": "ipython",
    "version": 3
   },
   "file_extension": ".py",
   "mimetype": "text/x-python",
   "name": "python",
   "nbconvert_exporter": "python",
   "pygments_lexer": "ipython3",
   "version": "3.10.4"
  },
  "orig_nbformat": 4,
  "vscode": {
   "interpreter": {
    "hash": "916dbcbb3f70747c44a77c7bcd40155683ae19c65e1c03b4aa3499c5328201f1"
   }
  }
 },
 "nbformat": 4,
 "nbformat_minor": 2
}
